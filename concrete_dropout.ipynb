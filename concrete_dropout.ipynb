{
 "cells": [
  {
   "cell_type": "code",
   "execution_count": 1,
   "metadata": {},
   "outputs": [],
   "source": [
    "import numpy as np\n",
    "import math\n",
    "import torch\n",
    "import torch.nn as nn\n",
    "import torch.nn.functional as F\n",
    "import torch.optim as optim\n",
    "from torch.autograd import Variable\n",
    "import heapq\n",
    "import time\n",
    "import random\n",
    "import matplotlib\n",
    "from matplotlib import rc\n",
    "import matplotlib.pyplot as plt\n",
    "from matplotlib import colors\n",
    "from sklearn import preprocessing\n",
    "from sklearn import linear_model\n",
    "from scipy.stats import rankdata\n",
    "import pandas as pd\n",
    "from matplotlib.ticker import PercentFormatter\n",
    "from matplotlib import rc\n",
    "\n",
    "import scipy.stats\n",
    "\n",
    "from scipy.integrate import trapz"
   ]
  },
  {
   "cell_type": "code",
   "execution_count": 2,
   "metadata": {},
   "outputs": [],
   "source": [
    "skip_training = False "
   ]
  },
  {
   "cell_type": "markdown",
   "metadata": {},
   "source": [
    "# Concrete Dropout"
   ]
  },
  {
   "cell_type": "markdown",
   "metadata": {},
   "source": [
    "## Data"
   ]
  },
  {
   "cell_type": "markdown",
   "metadata": {},
   "source": [
    "The dataset we used is the \"Californai Housing Prices\", the link is https://www.kaggle.com/camnugent/california-housing-prices"
   ]
  },
  {
   "cell_type": "code",
   "execution_count": 3,
   "metadata": {},
   "outputs": [],
   "source": [
    "def data_generating(traindf, testdf):\n",
    "    # training set\n",
    "    trainx = traindf.drop('median_house_value', axis=1).values\n",
    "    trainy = traindf['median_house_value'].values\n",
    "    # test set\n",
    "    testx = testdf.drop('median_house_value', axis=1).values\n",
    "    testy = testdf['median_house_value'].values\n",
    "   \n",
    "    scalerx = preprocessing.MinMaxScaler().fit(trainx)\n",
    "    trainx = scalerx.transform(trainx) + 0.5\n",
    "    testx = scalerx.transform(testx) + 0.5\n",
    "\n",
    "    scalery = preprocessing.MinMaxScaler().fit(trainy.reshape(-1,1))\n",
    "    trainy = scalery.transform(trainy.reshape(-1,1)).reshape(1, -1)\n",
    "    testy = scalery.transform(testy.reshape(-1,1)).reshape(1, -1)\n",
    "      \n",
    "    \n",
    "    # transfer data into tensor\n",
    "    x = torch.tensor(trainx, dtype = torch.float)\n",
    "    y = torch.tensor(trainy[0], dtype = torch.float)\n",
    "    x_test = torch.tensor(testx, dtype = torch.float)\n",
    "    y_test = torch.tensor(testy[0], dtype = torch.float)\n",
    "    \n",
    "    return x, y, x_test, y_test"
   ]
  },
  {
   "cell_type": "markdown",
   "metadata": {},
   "source": [
    "## Model"
   ]
  },
  {
   "cell_type": "code",
   "execution_count": 4,
   "metadata": {},
   "outputs": [],
   "source": [
    "class ConcreteDropout(nn.Module):\n",
    "    def __init__(self, size = 1, weight_regularizer=1e-6,\n",
    "                 dropout_regularizer=1e-5, init_min=0.1, init_max=0.9):\n",
    "        \n",
    "        super(ConcreteDropout, self).__init__()\n",
    "        \n",
    "        self.weight_regularizer = weight_regularizer\n",
    "        self.dropout_regularizer = dropout_regularizer\n",
    "        \n",
    "        init_min = np.log(init_min) - np.log(1. - init_min)\n",
    "        init_max = np.log(init_max) - np.log(1. - init_max)\n",
    "        \n",
    "        self.p_logit = nn.Parameter(torch.empty(size).uniform_(init_min, init_max))\n",
    "        \n",
    "    def forward(self, x, layer):\n",
    "        p = torch.sigmoid(self.p_logit)\n",
    "            \n",
    "        out = layer(self._concrete_dropout(x, p))\n",
    "\n",
    "        sum_of_square = 0\n",
    "        \n",
    "        network_weights = torch.sum(torch.sum(torch.pow(layer.weight, 2), 0) / (1 - p))\n",
    "        network_bias = torch.sum(torch.pow(layer.bias, 2))   \n",
    "            \n",
    "        weights_regularizer = self.weight_regularizer * (network_bias + network_weights)\n",
    "\n",
    "        dropout_regularizer = p * torch.log(p) + (1. - p) * torch.log(1. - p)\n",
    "        dropout_regularizer = self.dropout_regularizer * torch.sum(dropout_regularizer)\n",
    "\n",
    "        regularization = weights_regularizer + dropout_regularizer\n",
    "\n",
    "        return out, regularization\n",
    "        \n",
    "    def _concrete_dropout(self, x, p):\n",
    "        eps = 1e-7\n",
    "        temp = 0.1\n",
    "\n",
    "        unif_noise = torch.rand_like(x)\n",
    "\n",
    "        drop_prob = (torch.log(p + eps)\n",
    "                    - torch.log(1 - p + eps)\n",
    "                    + torch.log(unif_noise + eps)\n",
    "                    - torch.log(1 - unif_noise + eps))\n",
    "        \n",
    "        drop_prob = torch.sigmoid(drop_prob / temp)\n",
    "        random_tensor = 1 - drop_prob\n",
    "        retain_prob = 1 - p\n",
    "        \n",
    "        x  = torch.mul(x, random_tensor)\n",
    "        x /= retain_prob\n",
    "        \n",
    "        return x"
   ]
  },
  {
   "cell_type": "code",
   "execution_count": 5,
   "metadata": {},
   "outputs": [],
   "source": [
    "class Model_var(nn.Module):\n",
    "    def __init__(self, weight_regularizer, dropout_regularizer):\n",
    "        super(Model_var, self).__init__()\n",
    "        self.linear1 = nn.Linear(8, 50)\n",
    "        self.linear2 = nn.Linear(50, 50)\n",
    "        self.linear3 = nn.Linear(50, 20)\n",
    "        \n",
    "        \n",
    "        self.linear4_mu = nn.Linear(20, 1)\n",
    "        self.linear4_var = nn.Linear(20, 1)\n",
    "        \n",
    "        self.conc_drop1 = ConcreteDropout(size = 8, weight_regularizer=weight_regularizer,\n",
    "                                          dropout_regularizer=dropout_regularizer)\n",
    "        self.conc_drop2 = ConcreteDropout(size = 50, weight_regularizer=weight_regularizer,\n",
    "                                          dropout_regularizer=dropout_regularizer)\n",
    "        self.conc_drop3 = ConcreteDropout(size = 50, weight_regularizer=weight_regularizer,\n",
    "                                          dropout_regularizer=dropout_regularizer)\n",
    "        \n",
    "        self.conc_drop_mu = ConcreteDropout(size = 20, weight_regularizer=weight_regularizer,\n",
    "                                             dropout_regularizer=dropout_regularizer)\n",
    "        self.conc_drop_logvar = ConcreteDropout(size = 20, weight_regularizer=weight_regularizer,\n",
    "                                                 dropout_regularizer=dropout_regularizer)\n",
    "        \n",
    "        self.relu = nn.ReLU()\n",
    "        \n",
    "    def forward(self, x):\n",
    "        if self.training:\n",
    "            regularization = torch.empty(5)\n",
    "\n",
    "            x1, regularization[0] = self.conc_drop1(x, self.linear1)\n",
    "            x1 = self.relu(x1)\n",
    "            x2, regularization[1] = self.conc_drop2(x1, self.linear2)\n",
    "            x2 = self.relu(x2)\n",
    "            x3, regularization[2] = self.conc_drop3(x2, self.linear3)\n",
    "            x3 = self.relu(x3)\n",
    "            output, regularization[3] = self.conc_drop_mu(x3, self.linear4_mu)\n",
    "            log_var, regularization[4] = self.conc_drop_mu(x3, self.linear4_var)\n",
    "\n",
    "            return output, log_var, regularization.sum()\n",
    "        else:\n",
    "            x = self.relu(self.linear1(x))\n",
    "            x = self.relu(self.linear2(x))\n",
    "            x = self.relu(self.linear3(x))\n",
    "            x = self.linear4_mu(x)\n",
    "            return x\n",
    "\n",
    "def heteroscedastic_loss_var(true, mean, log_var):\n",
    "    precision = torch.exp(-log_var)\n",
    "    return torch.mean(torch.sum(precision * (true - mean)**2 + log_var, 1), 0)"
   ]
  },
  {
   "cell_type": "code",
   "execution_count": 6,
   "metadata": {},
   "outputs": [],
   "source": [
    "class Main_effect(nn.Module):\n",
    "    def __init__(self, num_dim):\n",
    "        super(Main_effect, self).__init__()\n",
    "        self.fc1 = nn.Linear(num_dim, 1)\n",
    "    \n",
    "    def forward(self, x):\n",
    "        x = self.fc1(x)\n",
    "        return x"
   ]
  },
  {
   "cell_type": "code",
   "execution_count": 7,
   "metadata": {},
   "outputs": [],
   "source": [
    "class EarlyStopping:\n",
    "    def __init__(self, tolerance, patience):\n",
    "        \n",
    "        self.tolerance = tolerance\n",
    "        self.patience = patience\n",
    "    \n",
    "    def stop_criterion(self, val_errors):\n",
    "        if len(val_errors) < self.patience + 1:\n",
    "            return False\n",
    "        else:\n",
    "            current_best = min(val_errors[:-self.patience])\n",
    "            current_stop = True\n",
    "            for i in range(self.patience):\n",
    "                current_stop = current_stop and (val_errors[-i-1] - current_best > self.tolerance)\n",
    "            return current_stop"
   ]
  },
  {
   "cell_type": "markdown",
   "metadata": {},
   "source": [
    "## Training"
   ]
  },
  {
   "cell_type": "code",
   "execution_count": 8,
   "metadata": {},
   "outputs": [],
   "source": [
    "def training_CD_var(mlp, main_effect, x, y, x_test, y_test, learning_rate = 0.001, batch_size = 50, num_epoch=1000, tolerance=0.002, patience = 20):\n",
    "    \n",
    "    parameters = set(main_effect.parameters()) | set(mlp.parameters())\n",
    "    optimizer = optim.Adam(parameters, lr = learning_rate)\n",
    "    early_stop = EarlyStopping(tolerance, patience)\n",
    "    criterion = nn.MSELoss()\n",
    "\n",
    "    train_errors = []\n",
    "    val_errors = []\n",
    "\n",
    "    num_data, num_dim = x.shape\n",
    "    y = y.view(-1, 1)\n",
    "    data = torch.cat((x, y), 1)\n",
    "\n",
    "    for epoch in range(num_epoch):\n",
    "        # permuate the data\n",
    "        data_perm = data[torch.randperm(len(data))]\n",
    "        x = data_perm[:, 0:-1]\n",
    "        y = data_perm[:, -1]\n",
    "\n",
    "        for index in range(int(num_data/batch_size)):\n",
    "            # data comes in\n",
    "            inputs = x[index*batch_size : (index+1)*batch_size]\n",
    "            labels = y[index*batch_size : (index+1)*batch_size].view(-1,1)\n",
    "\n",
    "            # initialize the gradient of optimizer\n",
    "            optimizer.zero_grad()\n",
    "            mlp.train()\n",
    "            # calculate the loss function\n",
    "\n",
    "            output_mlp, var, reg = mlp(inputs)          \n",
    "            loss = heteroscedastic_loss_var(labels, output_mlp + main_effect(inputs), var) + reg\n",
    "\n",
    "            # backpropogate the gradient     \n",
    "            loss.backward()\n",
    "            # optimize with SGD\n",
    "            optimizer.step()\n",
    "\n",
    "        # train and validation loss\n",
    "        mlp.eval()\n",
    "        train_errors.append(criterion(mlp.forward(x) + main_effect.forward(x), y.view(-1,1)))\n",
    "        val_errors.append(criterion(mlp.forward(x_test) + main_effect.forward(x_test), y_test.view(-1,1)))\n",
    "\n",
    "        # determine if early stop\n",
    "        if early_stop.stop_criterion(val_errors):\n",
    "            print(val_errors[epoch])\n",
    "            print('Stop after %d epochs' % epoch)\n",
    "            break\n",
    "\n",
    "        if (epoch % 10) == 0:\n",
    "            print('EPOACH %d: TRAIN LOSS: %.4f; VAL LOSS IS: %.5f.'% (epoch+1, train_errors[epoch], val_errors[epoch]))\n",
    "        torch.save(mlp.state_dict(), 'CD_mlp_01.pth')\n",
    "        "
   ]
  },
  {
   "cell_type": "markdown",
   "metadata": {},
   "source": [
    "## Experiment"
   ]
  },
  {
   "cell_type": "code",
   "execution_count": 9,
   "metadata": {},
   "outputs": [],
   "source": [
    "# remove none value\n",
    "df = pd.read_csv(\"housing.csv\", sep=\",\")\n",
    "df = df.dropna(axis=0)\n",
    "# remove ocean_proximity\n",
    "df = df.drop('ocean_proximity', axis = 1)\n",
    "# split data into training and test set\n",
    "\n",
    "np.random.seed(129)\n",
    "msk = np.random.rand(len(df)) < 0.8\n",
    "traindf = df[msk]\n",
    "testdf = df[~msk]\n",
    "x, y, x_test, y_test = data_generating(traindf, testdf)\n",
    "num_data, num_feature = x.shape"
   ]
  },
  {
   "cell_type": "code",
   "execution_count": 10,
   "metadata": {},
   "outputs": [],
   "source": [
    "l = 1e-4\n",
    "wr = l**2. / num_data\n",
    "dr = 2. / num_data\n",
    "learning_rate = 0.001\n",
    "batch_size = 50; num_epoch = 1000;\n",
    "tolerance = 0.01; patience = 20;"
   ]
  },
  {
   "cell_type": "code",
   "execution_count": 11,
   "metadata": {},
   "outputs": [],
   "source": [
    "mlp_cd_var = Model_var(wr, dr)\n",
    "main_effect_cd_var = Main_effect(num_feature)"
   ]
  },
  {
   "cell_type": "code",
   "execution_count": 12,
   "metadata": {},
   "outputs": [
    {
     "name": "stdout",
     "output_type": "stream",
     "text": [
      "EPOACH 1: TRAIN LOSS: 0.0444; VAL LOSS IS: 0.04494.\n",
      "EPOACH 11: TRAIN LOSS: 0.0239; VAL LOSS IS: 0.02453.\n",
      "EPOACH 21: TRAIN LOSS: 0.0230; VAL LOSS IS: 0.02377.\n",
      "EPOACH 31: TRAIN LOSS: 0.0231; VAL LOSS IS: 0.02399.\n",
      "EPOACH 41: TRAIN LOSS: 0.0223; VAL LOSS IS: 0.02313.\n",
      "EPOACH 51: TRAIN LOSS: 0.0220; VAL LOSS IS: 0.02290.\n",
      "EPOACH 61: TRAIN LOSS: 0.0218; VAL LOSS IS: 0.02275.\n",
      "EPOACH 71: TRAIN LOSS: 0.0216; VAL LOSS IS: 0.02251.\n",
      "EPOACH 81: TRAIN LOSS: 0.0213; VAL LOSS IS: 0.02219.\n",
      "EPOACH 91: TRAIN LOSS: 0.0216; VAL LOSS IS: 0.02258.\n",
      "EPOACH 101: TRAIN LOSS: 0.0218; VAL LOSS IS: 0.02262.\n",
      "EPOACH 111: TRAIN LOSS: 0.0208; VAL LOSS IS: 0.02170.\n",
      "EPOACH 121: TRAIN LOSS: 0.0206; VAL LOSS IS: 0.02141.\n",
      "EPOACH 131: TRAIN LOSS: 0.0206; VAL LOSS IS: 0.02150.\n",
      "EPOACH 141: TRAIN LOSS: 0.0201; VAL LOSS IS: 0.02091.\n",
      "EPOACH 151: TRAIN LOSS: 0.0195; VAL LOSS IS: 0.02021.\n",
      "EPOACH 161: TRAIN LOSS: 0.0185; VAL LOSS IS: 0.01940.\n",
      "EPOACH 171: TRAIN LOSS: 0.0191; VAL LOSS IS: 0.01976.\n",
      "EPOACH 181: TRAIN LOSS: 0.0189; VAL LOSS IS: 0.01961.\n",
      "EPOACH 191: TRAIN LOSS: 0.0183; VAL LOSS IS: 0.01902.\n",
      "EPOACH 201: TRAIN LOSS: 0.0185; VAL LOSS IS: 0.01916.\n",
      "EPOACH 211: TRAIN LOSS: 0.0181; VAL LOSS IS: 0.01890.\n",
      "EPOACH 221: TRAIN LOSS: 0.0180; VAL LOSS IS: 0.01889.\n",
      "EPOACH 231: TRAIN LOSS: 0.0183; VAL LOSS IS: 0.01909.\n",
      "EPOACH 241: TRAIN LOSS: 0.0183; VAL LOSS IS: 0.01916.\n",
      "EPOACH 251: TRAIN LOSS: 0.0180; VAL LOSS IS: 0.01888.\n",
      "EPOACH 261: TRAIN LOSS: 0.0181; VAL LOSS IS: 0.01898.\n",
      "EPOACH 271: TRAIN LOSS: 0.0178; VAL LOSS IS: 0.01872.\n",
      "EPOACH 281: TRAIN LOSS: 0.0182; VAL LOSS IS: 0.01914.\n",
      "EPOACH 291: TRAIN LOSS: 0.0180; VAL LOSS IS: 0.01901.\n",
      "EPOACH 301: TRAIN LOSS: 0.0192; VAL LOSS IS: 0.02005.\n",
      "EPOACH 311: TRAIN LOSS: 0.0181; VAL LOSS IS: 0.01902.\n",
      "EPOACH 321: TRAIN LOSS: 0.0179; VAL LOSS IS: 0.01896.\n",
      "EPOACH 331: TRAIN LOSS: 0.0178; VAL LOSS IS: 0.01879.\n",
      "EPOACH 341: TRAIN LOSS: 0.0205; VAL LOSS IS: 0.02151.\n",
      "EPOACH 351: TRAIN LOSS: 0.0168; VAL LOSS IS: 0.01776.\n",
      "EPOACH 361: TRAIN LOSS: 0.0164; VAL LOSS IS: 0.01732.\n",
      "EPOACH 371: TRAIN LOSS: 0.0165; VAL LOSS IS: 0.01748.\n",
      "EPOACH 381: TRAIN LOSS: 0.0167; VAL LOSS IS: 0.01764.\n",
      "EPOACH 391: TRAIN LOSS: 0.0162; VAL LOSS IS: 0.01712.\n",
      "EPOACH 401: TRAIN LOSS: 0.0175; VAL LOSS IS: 0.01837.\n",
      "EPOACH 411: TRAIN LOSS: 0.0175; VAL LOSS IS: 0.01862.\n",
      "EPOACH 421: TRAIN LOSS: 0.0160; VAL LOSS IS: 0.01712.\n",
      "EPOACH 431: TRAIN LOSS: 0.0165; VAL LOSS IS: 0.01766.\n",
      "EPOACH 441: TRAIN LOSS: 0.0151; VAL LOSS IS: 0.01608.\n",
      "EPOACH 451: TRAIN LOSS: 0.0174; VAL LOSS IS: 0.01834.\n",
      "EPOACH 461: TRAIN LOSS: 0.0141; VAL LOSS IS: 0.01515.\n",
      "EPOACH 471: TRAIN LOSS: 0.0135; VAL LOSS IS: 0.01465.\n",
      "EPOACH 481: TRAIN LOSS: 0.0145; VAL LOSS IS: 0.01556.\n",
      "EPOACH 491: TRAIN LOSS: 0.0137; VAL LOSS IS: 0.01499.\n",
      "EPOACH 501: TRAIN LOSS: 0.0148; VAL LOSS IS: 0.01582.\n",
      "EPOACH 511: TRAIN LOSS: 0.0131; VAL LOSS IS: 0.01411.\n",
      "EPOACH 521: TRAIN LOSS: 0.0146; VAL LOSS IS: 0.01567.\n",
      "EPOACH 531: TRAIN LOSS: 0.0133; VAL LOSS IS: 0.01460.\n",
      "EPOACH 541: TRAIN LOSS: 0.0131; VAL LOSS IS: 0.01425.\n",
      "EPOACH 551: TRAIN LOSS: 0.0128; VAL LOSS IS: 0.01408.\n",
      "EPOACH 561: TRAIN LOSS: 0.0128; VAL LOSS IS: 0.01399.\n",
      "EPOACH 571: TRAIN LOSS: 0.0134; VAL LOSS IS: 0.01478.\n",
      "EPOACH 581: TRAIN LOSS: 0.0141; VAL LOSS IS: 0.01566.\n",
      "EPOACH 591: TRAIN LOSS: 0.0131; VAL LOSS IS: 0.01481.\n",
      "EPOACH 601: TRAIN LOSS: 0.0128; VAL LOSS IS: 0.01442.\n",
      "EPOACH 611: TRAIN LOSS: 0.0127; VAL LOSS IS: 0.01431.\n",
      "EPOACH 621: TRAIN LOSS: 0.0128; VAL LOSS IS: 0.01443.\n",
      "EPOACH 631: TRAIN LOSS: 0.0134; VAL LOSS IS: 0.01483.\n",
      "EPOACH 641: TRAIN LOSS: 0.0135; VAL LOSS IS: 0.01512.\n",
      "EPOACH 651: TRAIN LOSS: 0.0148; VAL LOSS IS: 0.01583.\n",
      "EPOACH 661: TRAIN LOSS: 0.0130; VAL LOSS IS: 0.01444.\n",
      "EPOACH 671: TRAIN LOSS: 0.0122; VAL LOSS IS: 0.01354.\n",
      "EPOACH 681: TRAIN LOSS: 0.0142; VAL LOSS IS: 0.01551.\n",
      "EPOACH 691: TRAIN LOSS: 0.0120; VAL LOSS IS: 0.01340.\n",
      "EPOACH 701: TRAIN LOSS: 0.0122; VAL LOSS IS: 0.01354.\n",
      "EPOACH 711: TRAIN LOSS: 0.0123; VAL LOSS IS: 0.01376.\n",
      "EPOACH 721: TRAIN LOSS: 0.0118; VAL LOSS IS: 0.01330.\n",
      "EPOACH 731: TRAIN LOSS: 0.0121; VAL LOSS IS: 0.01362.\n",
      "EPOACH 741: TRAIN LOSS: 0.0122; VAL LOSS IS: 0.01367.\n",
      "EPOACH 751: TRAIN LOSS: 0.0139; VAL LOSS IS: 0.01482.\n",
      "EPOACH 761: TRAIN LOSS: 0.0119; VAL LOSS IS: 0.01340.\n",
      "EPOACH 771: TRAIN LOSS: 0.0120; VAL LOSS IS: 0.01339.\n",
      "EPOACH 781: TRAIN LOSS: 0.0123; VAL LOSS IS: 0.01386.\n",
      "EPOACH 791: TRAIN LOSS: 0.0119; VAL LOSS IS: 0.01351.\n",
      "EPOACH 801: TRAIN LOSS: 0.0116; VAL LOSS IS: 0.01332.\n",
      "EPOACH 811: TRAIN LOSS: 0.0125; VAL LOSS IS: 0.01384.\n",
      "EPOACH 821: TRAIN LOSS: 0.0117; VAL LOSS IS: 0.01331.\n",
      "EPOACH 831: TRAIN LOSS: 0.0118; VAL LOSS IS: 0.01342.\n",
      "EPOACH 841: TRAIN LOSS: 0.0140; VAL LOSS IS: 0.01533.\n",
      "EPOACH 851: TRAIN LOSS: 0.0114; VAL LOSS IS: 0.01301.\n",
      "EPOACH 861: TRAIN LOSS: 0.0151; VAL LOSS IS: 0.01621.\n",
      "EPOACH 871: TRAIN LOSS: 0.0115; VAL LOSS IS: 0.01313.\n",
      "EPOACH 881: TRAIN LOSS: 0.0120; VAL LOSS IS: 0.01363.\n",
      "EPOACH 891: TRAIN LOSS: 0.0119; VAL LOSS IS: 0.01344.\n",
      "EPOACH 901: TRAIN LOSS: 0.0118; VAL LOSS IS: 0.01346.\n",
      "EPOACH 911: TRAIN LOSS: 0.0132; VAL LOSS IS: 0.01463.\n",
      "EPOACH 921: TRAIN LOSS: 0.0115; VAL LOSS IS: 0.01314.\n",
      "EPOACH 931: TRAIN LOSS: 0.0122; VAL LOSS IS: 0.01360.\n",
      "EPOACH 941: TRAIN LOSS: 0.0117; VAL LOSS IS: 0.01329.\n",
      "EPOACH 951: TRAIN LOSS: 0.0190; VAL LOSS IS: 0.02002.\n",
      "EPOACH 961: TRAIN LOSS: 0.0117; VAL LOSS IS: 0.01322.\n",
      "EPOACH 971: TRAIN LOSS: 0.0115; VAL LOSS IS: 0.01330.\n",
      "EPOACH 981: TRAIN LOSS: 0.0123; VAL LOSS IS: 0.01399.\n",
      "EPOACH 991: TRAIN LOSS: 0.0113; VAL LOSS IS: 0.01298.\n"
     ]
    }
   ],
   "source": [
    "#if skip_training:\n",
    "    \n",
    "training_CD_var(mlp_cd_var, main_effect_cd_var, x, y, x_test, y_test, learning_rate, batch_size, num_epoch, tolerance, patience)"
   ]
  },
  {
   "cell_type": "code",
   "execution_count": 17,
   "metadata": {},
   "outputs": [],
   "source": [
    "# MC sample \n",
    "K_test = 20 # sample 20 times \n",
    "mlp_cd_var.train() \n",
    "MC_samples = [mlp_cd_var(x_test)[0] + main_effect_cd_var(x_test) for _ in range(K_test)]  \n",
    "mean_samples = torch.stack([tup for tup in MC_samples]).view(K_test, x_test.shape[0]).cpu().data.numpy()  # shape (20, 4000) \n",
    "MC_sample_logvar = [mlp_cd_var(x_test)[1] for _ in range(K_test)]\n",
    "logvar = torch.stack([tup for tup in MC_sample_logvar]).view(K_test, x_test.shape[0]).cpu().data.numpy() # shape (20, 4000)\n",
    "var = np.exp(logvar)\n",
    "var = np.mean(var,0)\n",
    "\n",
    "for samples in mean_samples:\n",
    "    for i in range(len(samples)):\n",
    "        samples[i] = np.random.normal(samples[i], np.sqrt(var[i]))\n",
    "\n",
    "mean = np.mean(mean_samples, 0) # 4000*1\n",
    "concrete_uncertainty = np.std(mean_samples, 0)  # 4000*1\n"
   ]
  },
  {
   "cell_type": "code",
   "execution_count": 20,
   "metadata": {},
   "outputs": [
    {
     "name": "stdout",
     "output_type": "stream",
     "text": [
      "the area between two lines is =  -0.017057323293660498\n"
     ]
    },
    {
     "data": {
      "text/plain": [
       "[<matplotlib.lines.Line2D at 0x7f5aa45e38d0>]"
      ]
     },
     "execution_count": 20,
     "metadata": {},
     "output_type": "execute_result"
    },
    {
     "data": {
      "image/png": "[encoded data removed]",
      "text/plain": [
       "<Figure size 432x288 with 1 Axes>"
      ]
     },
     "metadata": {
      "needs_background": "light"
     },
     "output_type": "display_data"
    }
   ],
   "source": [
    "def hit_probability(y_test, mean, concrete_uncertainty, confidence):\n",
    "    confidence_lower, confidence_higher = scipy.stats.norm.interval(confidence , mean, concrete_uncertainty)\n",
    "    return np.sum([1 if y_test[i] <= confidence_higher[i] and y_test[i] >= confidence_lower[i] else 0 for i in range(len(y_test))]) / len(y_test)\n",
    "\n",
    "confidence = np.linspace(0, 1.0, 21, endpoint = True)\n",
    "\n",
    "#hit = hit_probability(means, y_test, confidence)\n",
    "plt.plot(confidence, confidence, '-*')\n",
    "hit_ratio = [hit_probability(y_test, mean, concrete_uncertainty, c) for c in confidence]\n",
    "\n",
    "area1 = trapz(confidence, dx = 0.05)\n",
    "area2 = trapz(hit_ratio, dx = 0.05)\n",
    "print(\"the area between two lines is = \", area1 - area2)\n",
    "\n",
    "plt.plot(confidence, hit_ratio )"
   ]
  },
  {
   "cell_type": "code",
   "execution_count": null,
   "metadata": {},
   "outputs": [],
   "source": []
  }
 ],
 "metadata": {
  "kernelspec": {
   "display_name": "Python 3",
   "language": "python",
   "name": "python3"
  },
  "language_info": {
   "codemirror_mode": {
    "name": "ipython",
    "version": 3
   },
   "file_extension": ".py",
   "mimetype": "text/x-python",
   "name": "python",
   "nbconvert_exporter": "python",
   "pygments_lexer": "ipython3",
   "version": "3.5.2"
  }
 },
 "nbformat": 4,
 "nbformat_minor": 2
}
