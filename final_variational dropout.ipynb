{
 "cells": [
  {
   "cell_type": "code",
   "execution_count": 1,
   "metadata": {},
   "outputs": [],
   "source": [
    "import torch\n",
    "from torch import nn\n",
    "from torch.nn import functional as F\n",
    "from torch import optim\n",
    "from torch.autograd import Variable\n",
    "import numpy as np\n",
    "import math\n",
    "import random\n",
    "import matplotlib.pyplot as plt\n",
    "import matplotlib\n",
    "from matplotlib import colors\n",
    "from sklearn import preprocessing\n",
    "from scipy.stats import rankdata\n",
    "import pandas as pd\n",
    "from sklearn.preprocessing import StandardScaler\n",
    "from sklearn.preprocessing import MinMaxScaler\n",
    "from sklearn.model_selection import train_test_split\n",
    "\n",
    "import scipy.stats\n",
    "\n",
    "from scipy.integrate import trapz"
   ]
  },
  {
   "cell_type": "markdown",
   "metadata": {},
   "source": [
    "# Variational Dropout"
   ]
  },
  {
   "cell_type": "markdown",
   "metadata": {},
   "source": [
    "## Data"
   ]
  },
  {
   "cell_type": "code",
   "execution_count": 2,
   "metadata": {},
   "outputs": [],
   "source": [
    "def data_generating(traindf, testdf):\n",
    "    # training set\n",
    "    trainx = traindf.drop('median_house_value', axis=1).values\n",
    "    trainy = traindf['median_house_value'].values\n",
    "    # test set\n",
    "    testx = testdf.drop('median_house_value', axis=1).values\n",
    "    testy = testdf['median_house_value'].values\n",
    "   \n",
    "    scalerx = preprocessing.MinMaxScaler().fit(trainx)\n",
    "    trainx = scalerx.transform(trainx) + 0.5\n",
    "    testx = scalerx.transform(testx) + 0.5\n",
    "\n",
    "    scalery = preprocessing.MinMaxScaler().fit(trainy.reshape(-1,1))\n",
    "    trainy = scalery.transform(trainy.reshape(-1,1)).reshape(1, -1)\n",
    "    testy = scalery.transform(testy.reshape(-1,1)).reshape(1, -1)\n",
    "      \n",
    "    \n",
    "    # transfer data into tensor\n",
    "    x = torch.tensor(trainx, dtype = torch.float)\n",
    "    y = torch.tensor(trainy[0], dtype = torch.float)\n",
    "    x_test = torch.tensor(testx, dtype = torch.float)\n",
    "    y_test = torch.tensor(testy[0], dtype = torch.float)\n",
    "    \n",
    "    return x, y, x_test, y_test"
   ]
  },
  {
   "cell_type": "code",
   "execution_count": 3,
   "metadata": {},
   "outputs": [],
   "source": [
    "# remove none value\n",
    "df = pd.read_csv(\"housing.csv\", sep=\",\")\n",
    "df = df.dropna(axis=0)\n",
    "# remove ocean_proximity\n",
    "df = df.drop('ocean_proximity', axis = 1)\n",
    "# split data into training and test set\n",
    "\n",
    "msk = np.random.rand(len(df)) < 0.8\n",
    "traindf = df[msk]\n",
    "testdf = df[~msk]\n",
    "x, y, x_test, y_test = data_generating(traindf, testdf)\n",
    "num_data, num_feature = x.shape"
   ]
  },
  {
   "cell_type": "markdown",
   "metadata": {},
   "source": [
    "## Define Model"
   ]
  },
  {
   "cell_type": "code",
   "execution_count": 4,
   "metadata": {},
   "outputs": [],
   "source": [
    "def negativeKL(log_alpha):\n",
    "    c1 = 1.16145124\n",
    "    c2 = -1.50204118\n",
    "    c3 = 0.58629921\n",
    "    alpha = log_alpha.exp()\n",
    "    negativeKL = 0.5 * log_alpha + c1 * alpha + c2 * alpha**2 + c3 * alpha**3\n",
    "    \n",
    "    return negativeKL\n",
    "\n",
    "class MLP_VD(nn.Module):\n",
    "    def __init__(self, size, max_log_alpha = -0.5):\n",
    "        super(MLP_VD, self).__init__()\n",
    "        self.size = size\n",
    "        # set maximum log variance because we are using a wild approximation\n",
    "        self.max_log_alpha = max_log_alpha\n",
    "        # variational dropout for each node\n",
    "        self.log_alpha = nn.ParameterList([nn.Parameter((torch.ones(size[i]) * 0.5).log()) for i in range(len(size) - 1)])\n",
    "        # layer\n",
    "        self.layers = nn.ModuleList([nn.Linear(size[i], size[i + 1]) for i in range(len(size) - 1)])\n",
    "    \n",
    "    def KL(self):\n",
    "        KL = 0\n",
    "        for i in range(len(self.log_alpha)):\n",
    "            KL = KL - negativeKL(self.log_alpha[i]).sum() * self.size[i+1]\n",
    "        return KL\n",
    "    \n",
    "    def forward(self, x):\n",
    "        if self.training:\n",
    "        \n",
    "            # set limit to all variance\n",
    "            for i in range(len(self.log_alpha)):\n",
    "                self.log_alpha[i].data = torch.clamp(self.log_alpha[i].data, max=self.max_log_alpha)\n",
    "            \n",
    "            # forward pass\n",
    "            for i, j in enumerate(self.layers):\n",
    "                # generate noise for each layer\n",
    "                epsilon = Variable(torch.randn(x.shape[0], self.size[i]))\n",
    "                r = torch.randn(1)\n",
    "                epsilon = 1 + self.log_alpha[i].exp() * epsilon\n",
    "                if i != len(self.size) - 2:\n",
    "                    x = F.relu(j(x * epsilon))\n",
    "                else:\n",
    "                    x = j(x * epsilon)\n",
    "            return x\n",
    "        else:\n",
    "            for i, j in enumerate(self.layers):\n",
    "                if i != len(self.size) - 2:\n",
    "                    x = F.relu(j(x))\n",
    "                else:\n",
    "                    x = j(x)\n",
    "            return x"
   ]
  },
  {
   "cell_type": "markdown",
   "metadata": {},
   "source": [
    "## Training Model"
   ]
  },
  {
   "cell_type": "code",
   "execution_count": 5,
   "metadata": {},
   "outputs": [],
   "source": [
    "# parameters\n",
    "learning_rate = 0.001;\n",
    "lambda_r1 = 0; lambda_r2 = 0;\n",
    "batch_size = 50; num_epoch = 1000;\n",
    "tolerance = 0.01; patience = 20;\n",
    "#layers = [8, 50, 30, 1]\n",
    "layers = [8,50,50,20,1]"
   ]
  },
  {
   "cell_type": "code",
   "execution_count": 6,
   "metadata": {},
   "outputs": [],
   "source": [
    "# Training\n",
    "def training_VD(mlp, x, y, x_test, y_test,learning_rate = 0.001, batch_size = 50, num_epoch=1000, tolerance=0.002, patience = 20):\n",
    "    # Initialize training parameters\n",
    "    parameters = set(mlp.parameters())\n",
    "    criterion = nn.MSELoss()\n",
    "    optimizer = optim.Adam(parameters, lr = learning_rate)\n",
    "    early_stop = EarlyStopping(tolerance, patience)\n",
    "    \n",
    "    train_errors = []\n",
    "    val_errors = []\n",
    "    model_KL = []\n",
    "    \n",
    "    num_data, num_dim = x.shape\n",
    "    y = y.view(-1, 1)\n",
    "    data = torch.cat((x, y), 1)\n",
    "    \n",
    "    # generate a random seed for training\n",
    "    for epoch in range(num_epoch):\n",
    "        # permuate the data\n",
    "        data_perm = data[torch.randperm(len(data))]\n",
    "        x = data_perm[:, 0:-1]\n",
    "        y = data_perm[:, -1]\n",
    "        mlp.train()\n",
    "        for index in range(int(num_data/batch_size)):\n",
    "            # data comes in\n",
    "            inputs = x[index*batch_size : (index+1)*batch_size]\n",
    "            labels = y[index*batch_size : (index+1)*batch_size].view(-1,1)\n",
    "            \n",
    "            # initialize the gradient of optimizer\n",
    "            optimizer.zero_grad()\n",
    "\n",
    "            # calculate the loss function\n",
    "            outputs = mlp.forward(inputs)\n",
    "            loss = criterion(outputs, labels)\n",
    "            \n",
    "            loss = loss + 0.1 * mlp.KL() / (num_data)\n",
    "            \n",
    "            # backpropogate the gradient\n",
    "            loss.backward()\n",
    "            # optimize with SGD\n",
    "            optimizer.step()\n",
    "        \n",
    "        # do not use dropout during testing\n",
    "        mlp.eval()\n",
    "        \n",
    "        # train and validation loss\n",
    "        train_errors.append(criterion(mlp.forward(x), y.view(-1,1)))\n",
    "        val_errors.append(criterion(mlp.forward(x_test), y_test.view(-1,1)))\n",
    "        model_KL.append(mlp.KL())\n",
    "        \n",
    "        # determine if early stop\n",
    "        if early_stop.stop_criterion(val_errors):\n",
    "            print(val_errors[epoch])\n",
    "            print('Stop after %d epochs' % epoch)\n",
    "            break\n",
    "        \n",
    "        if (epoch % 10) == 0:\n",
    "            print('EPOACH %d: TRAIN LOSS: %.4f; VAL LOSS IS: %.5f; KL IS : %.5f'% (epoch+1, train_errors[epoch], val_errors[epoch], model_KL[epoch]))\n",
    "\n",
    "                # save model\n",
    "    torch.save(mlp.state_dict(), 'VD_mlp_01.pth')\n",
    "    \n",
    "    return mlp\n"
   ]
  },
  {
   "cell_type": "code",
   "execution_count": 7,
   "metadata": {},
   "outputs": [],
   "source": [
    "class EarlyStopping:\n",
    "    def __init__(self, tolerance, patience):\n",
    "        \n",
    "        self.tolerance = tolerance\n",
    "        self.patience = patience\n",
    "    \n",
    "    def stop_criterion(self, val_errors):\n",
    "        if len(val_errors) < self.patience + 1:\n",
    "            return False\n",
    "        else:\n",
    "            current_best = min(val_errors[:-self.patience])\n",
    "            current_stop = True\n",
    "            for i in range(self.patience):\n",
    "                current_stop = current_stop and (val_errors[-i-1] - current_best > self.tolerance)\n",
    "            return current_stop"
   ]
  },
  {
   "cell_type": "code",
   "execution_count": 8,
   "metadata": {},
   "outputs": [
    {
     "name": "stdout",
     "output_type": "stream",
     "text": [
      "EPOACH 1: TRAIN LOSS: 0.0501; VAL LOSS IS: 0.05145; KL IS : 68.56005\n",
      "EPOACH 11: TRAIN LOSS: 0.0250; VAL LOSS IS: 0.02535; KL IS : 211.35593\n",
      "EPOACH 21: TRAIN LOSS: 0.0220; VAL LOSS IS: 0.02213; KL IS : 322.27902\n",
      "EPOACH 31: TRAIN LOSS: 0.0202; VAL LOSS IS: 0.02033; KL IS : 352.58453\n",
      "EPOACH 41: TRAIN LOSS: 0.0200; VAL LOSS IS: 0.02009; KL IS : 395.82385\n",
      "EPOACH 51: TRAIN LOSS: 0.0180; VAL LOSS IS: 0.01787; KL IS : 439.30515\n",
      "EPOACH 61: TRAIN LOSS: 0.0178; VAL LOSS IS: 0.01781; KL IS : 467.51761\n",
      "EPOACH 71: TRAIN LOSS: 0.0177; VAL LOSS IS: 0.01771; KL IS : 478.90176\n",
      "EPOACH 81: TRAIN LOSS: 0.0178; VAL LOSS IS: 0.01790; KL IS : 487.86783\n",
      "EPOACH 91: TRAIN LOSS: 0.0179; VAL LOSS IS: 0.01774; KL IS : 490.72577\n",
      "EPOACH 101: TRAIN LOSS: 0.0173; VAL LOSS IS: 0.01721; KL IS : 493.36331\n",
      "EPOACH 111: TRAIN LOSS: 0.0175; VAL LOSS IS: 0.01733; KL IS : 496.82394\n",
      "EPOACH 121: TRAIN LOSS: 0.0168; VAL LOSS IS: 0.01677; KL IS : 496.40417\n",
      "EPOACH 131: TRAIN LOSS: 0.0169; VAL LOSS IS: 0.01684; KL IS : 499.39270\n",
      "EPOACH 141: TRAIN LOSS: 0.0176; VAL LOSS IS: 0.01735; KL IS : 498.67725\n",
      "EPOACH 151: TRAIN LOSS: 0.0170; VAL LOSS IS: 0.01697; KL IS : 499.21869\n",
      "EPOACH 161: TRAIN LOSS: 0.0171; VAL LOSS IS: 0.01708; KL IS : 501.34952\n",
      "EPOACH 171: TRAIN LOSS: 0.0167; VAL LOSS IS: 0.01653; KL IS : 505.27225\n",
      "EPOACH 181: TRAIN LOSS: 0.0172; VAL LOSS IS: 0.01685; KL IS : 503.82211\n",
      "EPOACH 191: TRAIN LOSS: 0.0174; VAL LOSS IS: 0.01723; KL IS : 505.27203\n",
      "EPOACH 201: TRAIN LOSS: 0.0168; VAL LOSS IS: 0.01687; KL IS : 506.76645\n",
      "EPOACH 211: TRAIN LOSS: 0.0166; VAL LOSS IS: 0.01651; KL IS : 509.73581\n",
      "EPOACH 221: TRAIN LOSS: 0.0164; VAL LOSS IS: 0.01642; KL IS : 510.76639\n",
      "EPOACH 231: TRAIN LOSS: 0.0166; VAL LOSS IS: 0.01667; KL IS : 508.87326\n",
      "EPOACH 241: TRAIN LOSS: 0.0165; VAL LOSS IS: 0.01676; KL IS : 512.60413\n",
      "EPOACH 251: TRAIN LOSS: 0.0161; VAL LOSS IS: 0.01604; KL IS : 514.02789\n",
      "EPOACH 261: TRAIN LOSS: 0.0163; VAL LOSS IS: 0.01634; KL IS : 512.17657\n",
      "EPOACH 271: TRAIN LOSS: 0.0161; VAL LOSS IS: 0.01621; KL IS : 514.04578\n",
      "EPOACH 281: TRAIN LOSS: 0.0173; VAL LOSS IS: 0.01747; KL IS : 516.61737\n",
      "EPOACH 291: TRAIN LOSS: 0.0171; VAL LOSS IS: 0.01683; KL IS : 515.13208\n",
      "EPOACH 301: TRAIN LOSS: 0.0163; VAL LOSS IS: 0.01632; KL IS : 514.39020\n",
      "EPOACH 311: TRAIN LOSS: 0.0164; VAL LOSS IS: 0.01643; KL IS : 513.89990\n",
      "EPOACH 321: TRAIN LOSS: 0.0161; VAL LOSS IS: 0.01620; KL IS : 514.64886\n",
      "EPOACH 331: TRAIN LOSS: 0.0162; VAL LOSS IS: 0.01640; KL IS : 518.73169\n",
      "EPOACH 341: TRAIN LOSS: 0.0178; VAL LOSS IS: 0.01797; KL IS : 516.22540\n",
      "EPOACH 351: TRAIN LOSS: 0.0163; VAL LOSS IS: 0.01639; KL IS : 520.77020\n",
      "EPOACH 361: TRAIN LOSS: 0.0159; VAL LOSS IS: 0.01613; KL IS : 517.96704\n",
      "EPOACH 371: TRAIN LOSS: 0.0159; VAL LOSS IS: 0.01594; KL IS : 517.10345\n",
      "EPOACH 381: TRAIN LOSS: 0.0160; VAL LOSS IS: 0.01625; KL IS : 516.73370\n",
      "EPOACH 391: TRAIN LOSS: 0.0162; VAL LOSS IS: 0.01630; KL IS : 517.44440\n",
      "EPOACH 401: TRAIN LOSS: 0.0166; VAL LOSS IS: 0.01642; KL IS : 517.10138\n",
      "EPOACH 411: TRAIN LOSS: 0.0162; VAL LOSS IS: 0.01648; KL IS : 516.30090\n",
      "EPOACH 421: TRAIN LOSS: 0.0162; VAL LOSS IS: 0.01621; KL IS : 513.97137\n",
      "EPOACH 431: TRAIN LOSS: 0.0162; VAL LOSS IS: 0.01617; KL IS : 521.09387\n",
      "EPOACH 441: TRAIN LOSS: 0.0158; VAL LOSS IS: 0.01583; KL IS : 521.57196\n",
      "EPOACH 451: TRAIN LOSS: 0.0159; VAL LOSS IS: 0.01590; KL IS : 522.27081\n",
      "EPOACH 461: TRAIN LOSS: 0.0160; VAL LOSS IS: 0.01606; KL IS : 520.01074\n",
      "EPOACH 471: TRAIN LOSS: 0.0159; VAL LOSS IS: 0.01616; KL IS : 522.36139\n",
      "EPOACH 481: TRAIN LOSS: 0.0162; VAL LOSS IS: 0.01640; KL IS : 520.77502\n",
      "EPOACH 491: TRAIN LOSS: 0.0159; VAL LOSS IS: 0.01609; KL IS : 521.07092\n",
      "EPOACH 501: TRAIN LOSS: 0.0160; VAL LOSS IS: 0.01617; KL IS : 520.59039\n",
      "EPOACH 511: TRAIN LOSS: 0.0163; VAL LOSS IS: 0.01664; KL IS : 522.61322\n",
      "EPOACH 521: TRAIN LOSS: 0.0160; VAL LOSS IS: 0.01615; KL IS : 519.97327\n",
      "EPOACH 531: TRAIN LOSS: 0.0165; VAL LOSS IS: 0.01657; KL IS : 521.83636\n",
      "EPOACH 541: TRAIN LOSS: 0.0159; VAL LOSS IS: 0.01615; KL IS : 522.98999\n",
      "EPOACH 551: TRAIN LOSS: 0.0157; VAL LOSS IS: 0.01594; KL IS : 521.06238\n",
      "EPOACH 561: TRAIN LOSS: 0.0157; VAL LOSS IS: 0.01577; KL IS : 521.94220\n",
      "EPOACH 571: TRAIN LOSS: 0.0158; VAL LOSS IS: 0.01593; KL IS : 522.74774\n",
      "EPOACH 581: TRAIN LOSS: 0.0162; VAL LOSS IS: 0.01644; KL IS : 523.37250\n",
      "EPOACH 591: TRAIN LOSS: 0.0159; VAL LOSS IS: 0.01600; KL IS : 524.63330\n",
      "EPOACH 601: TRAIN LOSS: 0.0156; VAL LOSS IS: 0.01589; KL IS : 526.10162\n",
      "EPOACH 611: TRAIN LOSS: 0.0158; VAL LOSS IS: 0.01607; KL IS : 525.51501\n",
      "EPOACH 621: TRAIN LOSS: 0.0157; VAL LOSS IS: 0.01586; KL IS : 524.66479\n",
      "EPOACH 631: TRAIN LOSS: 0.0157; VAL LOSS IS: 0.01583; KL IS : 524.16309\n",
      "EPOACH 641: TRAIN LOSS: 0.0158; VAL LOSS IS: 0.01599; KL IS : 525.52710\n",
      "EPOACH 651: TRAIN LOSS: 0.0158; VAL LOSS IS: 0.01591; KL IS : 521.87775\n",
      "EPOACH 661: TRAIN LOSS: 0.0166; VAL LOSS IS: 0.01671; KL IS : 528.22034\n",
      "EPOACH 671: TRAIN LOSS: 0.0173; VAL LOSS IS: 0.01757; KL IS : 524.90863\n",
      "EPOACH 681: TRAIN LOSS: 0.0156; VAL LOSS IS: 0.01590; KL IS : 527.84149\n",
      "EPOACH 691: TRAIN LOSS: 0.0157; VAL LOSS IS: 0.01589; KL IS : 527.29706\n",
      "EPOACH 701: TRAIN LOSS: 0.0158; VAL LOSS IS: 0.01592; KL IS : 525.96631\n",
      "EPOACH 711: TRAIN LOSS: 0.0171; VAL LOSS IS: 0.01729; KL IS : 528.46039\n",
      "EPOACH 721: TRAIN LOSS: 0.0156; VAL LOSS IS: 0.01590; KL IS : 528.04517\n",
      "EPOACH 731: TRAIN LOSS: 0.0158; VAL LOSS IS: 0.01592; KL IS : 522.95392\n",
      "EPOACH 741: TRAIN LOSS: 0.0162; VAL LOSS IS: 0.01649; KL IS : 525.71356\n",
      "EPOACH 751: TRAIN LOSS: 0.0158; VAL LOSS IS: 0.01611; KL IS : 520.94513\n",
      "EPOACH 761: TRAIN LOSS: 0.0160; VAL LOSS IS: 0.01603; KL IS : 526.37109\n",
      "EPOACH 771: TRAIN LOSS: 0.0160; VAL LOSS IS: 0.01623; KL IS : 530.25543\n",
      "EPOACH 781: TRAIN LOSS: 0.0157; VAL LOSS IS: 0.01596; KL IS : 528.41437\n",
      "EPOACH 791: TRAIN LOSS: 0.0160; VAL LOSS IS: 0.01631; KL IS : 530.35870\n",
      "EPOACH 801: TRAIN LOSS: 0.0157; VAL LOSS IS: 0.01581; KL IS : 526.98724\n",
      "EPOACH 811: TRAIN LOSS: 0.0162; VAL LOSS IS: 0.01644; KL IS : 531.69482\n",
      "EPOACH 821: TRAIN LOSS: 0.0158; VAL LOSS IS: 0.01606; KL IS : 528.09705\n",
      "EPOACH 831: TRAIN LOSS: 0.0157; VAL LOSS IS: 0.01583; KL IS : 526.60358\n",
      "EPOACH 841: TRAIN LOSS: 0.0155; VAL LOSS IS: 0.01569; KL IS : 528.68213\n",
      "EPOACH 851: TRAIN LOSS: 0.0157; VAL LOSS IS: 0.01607; KL IS : 529.96326\n",
      "EPOACH 861: TRAIN LOSS: 0.0171; VAL LOSS IS: 0.01695; KL IS : 531.28674\n",
      "EPOACH 871: TRAIN LOSS: 0.0158; VAL LOSS IS: 0.01597; KL IS : 528.80676\n",
      "EPOACH 881: TRAIN LOSS: 0.0158; VAL LOSS IS: 0.01588; KL IS : 527.31104\n",
      "EPOACH 891: TRAIN LOSS: 0.0158; VAL LOSS IS: 0.01618; KL IS : 531.90009\n",
      "EPOACH 901: TRAIN LOSS: 0.0155; VAL LOSS IS: 0.01577; KL IS : 529.65851\n",
      "EPOACH 911: TRAIN LOSS: 0.0157; VAL LOSS IS: 0.01588; KL IS : 530.92236\n",
      "EPOACH 921: TRAIN LOSS: 0.0166; VAL LOSS IS: 0.01674; KL IS : 529.64087\n",
      "EPOACH 931: TRAIN LOSS: 0.0154; VAL LOSS IS: 0.01574; KL IS : 528.64447\n",
      "EPOACH 941: TRAIN LOSS: 0.0157; VAL LOSS IS: 0.01609; KL IS : 532.27783\n",
      "EPOACH 951: TRAIN LOSS: 0.0161; VAL LOSS IS: 0.01622; KL IS : 526.55762\n",
      "EPOACH 961: TRAIN LOSS: 0.0157; VAL LOSS IS: 0.01605; KL IS : 521.14569\n",
      "EPOACH 971: TRAIN LOSS: 0.0159; VAL LOSS IS: 0.01631; KL IS : 522.13251\n",
      "EPOACH 981: TRAIN LOSS: 0.0160; VAL LOSS IS: 0.01631; KL IS : 520.75745\n",
      "EPOACH 991: TRAIN LOSS: 0.0157; VAL LOSS IS: 0.01600; KL IS : 519.36328\n"
     ]
    },
    {
     "data": {
      "text/plain": [
       "MLP_VD(\n",
       "  (log_alpha): ParameterList(\n",
       "      (0): Parameter containing: [torch.FloatTensor of size 8]\n",
       "      (1): Parameter containing: [torch.FloatTensor of size 50]\n",
       "      (2): Parameter containing: [torch.FloatTensor of size 50]\n",
       "      (3): Parameter containing: [torch.FloatTensor of size 20]\n",
       "  )\n",
       "  (layers): ModuleList(\n",
       "    (0): Linear(in_features=8, out_features=50, bias=True)\n",
       "    (1): Linear(in_features=50, out_features=50, bias=True)\n",
       "    (2): Linear(in_features=50, out_features=20, bias=True)\n",
       "    (3): Linear(in_features=20, out_features=1, bias=True)\n",
       "  )\n",
       ")"
      ]
     },
     "execution_count": 8,
     "metadata": {},
     "output_type": "execute_result"
    }
   ],
   "source": [
    "mlp = MLP_VD(layers)\n",
    "training_VD(mlp, x, y, x_test, y_test,learning_rate, batch_size, num_epoch, tolerance, patience)"
   ]
  },
  {
   "cell_type": "markdown",
   "metadata": {},
   "source": [
    "## MC Sample "
   ]
  },
  {
   "cell_type": "code",
   "execution_count": 9,
   "metadata": {},
   "outputs": [
    {
     "name": "stdout",
     "output_type": "stream",
     "text": [
      "menas.shape = (100, 4015)\n"
     ]
    }
   ],
   "source": [
    "# MC sample \n",
    "K_test = 100 # sample 100 times \n",
    "mlp.train() \n",
    "test = mlp(x_test)\n",
    "MC_samples = [mlp(x_test) for _ in range(K_test)]  \n",
    "# calculate the means \n",
    "means = torch.stack([tup for tup in MC_samples]).view(K_test, x_test.shape[0]).cpu().data.numpy()\n",
    "print(\"menas.shape =\" ,means.shape)\n",
    "mean = np.mean(means, 0)\n",
    "variational_uncertainty = np.std(means, 0)\n",
    "# dropout_probability\n",
    "#dropout_probability = np.array([torch.sigmoid(module.p_logit).cpu().data.numpy()[0] for module in mlp_cd_var.modules() if hasattr(module, 'p_logit')])"
   ]
  },
  {
   "cell_type": "code",
   "execution_count": 10,
   "metadata": {},
   "outputs": [
    {
     "name": "stdout",
     "output_type": "stream",
     "text": [
      "the area between two lines is =  0.2797820672478207\n"
     ]
    },
    {
     "data": {
      "image/png": "[encoded data removed]",
      "text/plain": [
       "<Figure size 432x288 with 1 Axes>"
      ]
     },
     "metadata": {
      "needs_background": "light"
     },
     "output_type": "display_data"
    }
   ],
   "source": [
    "# hit probability\n",
    "def hit_probability(y_test, mean, variational_uncertainty, confidence):\n",
    "    confidence_lower, confidence_higher = scipy.stats.norm.interval(confidence , mean, variational_uncertainty)\n",
    "#     print(\"confidence_higher = \", confidence_higher) \n",
    "#     print(\"y_test = \", y_test)\n",
    "#     print(\"confidence_lower =\",      confidence_lower)\n",
    "    return np.sum([1 if y_test[i] <= confidence_higher[i] and y_test[i] >= confidence_lower[i] else 0 for i in range(len(y_test))]) / len(y_test)\n",
    "\n",
    "\n",
    "confidence = np.linspace(0, 1.0, 21, endpoint = True)\n",
    "plt.plot(confidence, confidence, '-*')\n",
    "\n",
    "hit_ratio = [hit_probability(y_test, mean, variational_uncertainty, c) for c in confidence]\n",
    "plt.plot(confidence, hit_ratio)\n",
    "\n",
    "area1 = trapz(confidence, dx = 0.05)\n",
    "area2 = trapz(hit_ratio, dx = 0.05)\n",
    "print(\"the area between two lines is = \", area1 - area2)"
   ]
  }
 ],
 "metadata": {
  "kernelspec": {
   "display_name": "Python 3",
   "language": "python",
   "name": "python3"
  },
  "language_info": {
   "codemirror_mode": {
    "name": "ipython",
    "version": 3
   },
   "file_extension": ".py",
   "mimetype": "text/x-python",
   "name": "python",
   "nbconvert_exporter": "python",
   "pygments_lexer": "ipython3",
   "version": "3.5.2"
  }
 },
 "nbformat": 4,
 "nbformat_minor": 2
}
