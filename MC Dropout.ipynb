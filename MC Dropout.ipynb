{
 "cells": [
  {
   "cell_type": "code",
   "execution_count": 1,
   "metadata": {},
   "outputs": [],
   "source": [
    "import numpy as np\n",
    "import math\n",
    "import torch\n",
    "import torch.nn as nn\n",
    "import torch.nn.functional as F\n",
    "import torch.optim as optim\n",
    "from torch.autograd import Variable\n",
    "import heapq\n",
    "import time\n",
    "import random\n",
    "import matplotlib\n",
    "from matplotlib import rc\n",
    "import matplotlib.pyplot as plt\n",
    "from matplotlib import colors\n",
    "from sklearn import preprocessing\n",
    "from sklearn import linear_model\n",
    "from scipy.stats import rankdata\n",
    "import pandas as pd\n",
    "from matplotlib.ticker import PercentFormatter\n",
    "from matplotlib import rc\n",
    "import scipy.stats\n",
    "\n",
    "from scipy.integrate import trapz"
   ]
  },
  {
   "cell_type": "markdown",
   "metadata": {},
   "source": [
    "# MC Dropout"
   ]
  },
  {
   "cell_type": "code",
   "execution_count": 2,
   "metadata": {},
   "outputs": [],
   "source": [
    "skip_training = False  # Set this flag to True before validation and submission"
   ]
  },
  {
   "cell_type": "markdown",
   "metadata": {},
   "source": [
    "## Data"
   ]
  },
  {
   "cell_type": "code",
   "execution_count": 3,
   "metadata": {},
   "outputs": [],
   "source": [
    "def data_generating(traindf, testdf):\n",
    "    # training set\n",
    "    trainx = traindf.drop('median_house_value', axis=1).values\n",
    "    trainy = traindf['median_house_value'].values\n",
    "    # test set\n",
    "    testx = testdf.drop('median_house_value', axis=1).values\n",
    "    testy = testdf['median_house_value'].values\n",
    "   \n",
    "    scalerx = preprocessing.MinMaxScaler().fit(trainx)\n",
    "    trainx = scalerx.transform(trainx) + 0.5\n",
    "    testx = scalerx.transform(testx) + 0.5\n",
    "\n",
    "    scalery = preprocessing.MinMaxScaler().fit(trainy.reshape(-1,1))\n",
    "    trainy = scalery.transform(trainy.reshape(-1,1)).reshape(1, -1)\n",
    "    testy = scalery.transform(testy.reshape(-1,1)).reshape(1, -1)\n",
    "      \n",
    "    \n",
    "    # transfer data into tensor\n",
    "    x = torch.tensor(trainx, dtype = torch.float)\n",
    "    y = torch.tensor(trainy[0], dtype = torch.float)\n",
    "    x_test = torch.tensor(testx, dtype = torch.float)\n",
    "    y_test = torch.tensor(testy[0], dtype = torch.float)\n",
    "    \n",
    "    return x, y, x_test, y_test"
   ]
  },
  {
   "cell_type": "markdown",
   "metadata": {},
   "source": [
    "## Define Model"
   ]
  },
  {
   "cell_type": "code",
   "execution_count": 4,
   "metadata": {},
   "outputs": [],
   "source": [
    "class MCDropout(nn.Module):\n",
    "    def __init__(self):\n",
    "        # YOUR CODE HERE\n",
    "        super(MCDropout,self).__init__()\n",
    "        self.net = nn.Sequential(\n",
    "            nn.Dropout(0.05),\n",
    "            nn.Linear(8, 100),\n",
    "            nn.ReLU(),\n",
    "            nn.Dropout(0.15),\n",
    "            nn.Linear(100,100),\n",
    "            nn.ReLU(),\n",
    "            nn.Dropout(0.25),\n",
    "            nn.Linear(100,20),\n",
    "            nn.ReLU(),\n",
    "            nn.Dropout(0.3),\n",
    "            nn.Linear(20, 1))\n",
    "        \n",
    "    def forward(self, x):\n",
    "        # YOUR CODE HERE\n",
    "        return self.net(x)"
   ]
  },
  {
   "cell_type": "markdown",
   "metadata": {},
   "source": [
    "## Training Model"
   ]
  },
  {
   "cell_type": "code",
   "execution_count": 5,
   "metadata": {},
   "outputs": [],
   "source": [
    "def training_MC(mlp, x, y, x_test, y_test, learning_rate = 0.0001, batch_size = 50, num_epoch=1000, tolerance=0.002, patience = 20):\n",
    "    \n",
    "    parameters = set(mlp.parameters())\n",
    "    optimizer = optim.Adam(parameters, lr = learning_rate)\n",
    "    early_stop = EarlyStopping(tolerance, patience)\n",
    "    criterion = nn.MSELoss()\n",
    "\n",
    "    train_errors = []\n",
    "    val_errors = []\n",
    "\n",
    "    num_data, num_dim = x.shape\n",
    "    y = y.view(-1, 1)\n",
    "    data = torch.cat((x, y), 1)\n",
    "        \n",
    "    for epoch in range(num_epoch):\n",
    "        # permuate the data\n",
    "        if skip_training :\n",
    "            break\n",
    "        data_perm = data[torch.randperm(len(data))]\n",
    "        x = data_perm[:, 0:-1]\n",
    "        y = data_perm[:, -1]\n",
    "\n",
    "        for index in range(int(num_data/batch_size)):\n",
    "            # data comes in\n",
    "            inputs = x[index*batch_size : (index+1)*batch_size]\n",
    "            labels = y[index*batch_size : (index+1)*batch_size].view(-1,1)\n",
    "            #print(inputs)\n",
    "            # initialize the gradient of optimizer\n",
    "            optimizer.zero_grad()\n",
    "            mlp.train()\n",
    "            # calculate the loss function\n",
    "\n",
    "            outputs = mlp(inputs)          \n",
    "            loss = criterion(outputs, labels)\n",
    "\n",
    "            # backpropogate the gradient     \n",
    "            loss.backward()\n",
    "            # optimize with SGD\n",
    "            optimizer.step()\n",
    "\n",
    "        # train and validation loss\n",
    "        mlp.eval()\n",
    "        train_errors.append(criterion(mlp.forward(x), y.view(-1,1)))\n",
    "        val_errors.append(criterion(mlp.forward(x_test), y_test.view(-1,1)))\n",
    "\n",
    "        # determine if early stop\n",
    "        if early_stop.stop_criterion(val_errors):\n",
    "            print(val_errors[epoch])\n",
    "            print('Stop after %d epochs' % epoch)\n",
    "            break\n",
    "\n",
    "        if (epoch % 10) == 0:\n",
    "            print('EPOACH %d: TRAIN LOSS: %.4f; VAL LOSS IS: %.5f.'% (epoch+1, train_errors[epoch], val_errors[epoch]))\n",
    "        #save the model\n",
    "        torch.save(mlp.state_dict(), 'MC_mlp_01.pth')\n",
    "        "
   ]
  },
  {
   "cell_type": "code",
   "execution_count": 6,
   "metadata": {},
   "outputs": [],
   "source": [
    "class EarlyStopping:\n",
    "    def __init__(self, tolerance, patience):\n",
    "        \n",
    "        self.tolerance = tolerance\n",
    "        self.patience = patience\n",
    "    \n",
    "    def stop_criterion(self, val_errors):\n",
    "        if len(val_errors) < self.patience + 1:\n",
    "            return False\n",
    "        else:\n",
    "            current_best = min(val_errors[:-self.patience])\n",
    "            current_stop = True\n",
    "            for i in range(self.patience):\n",
    "                current_stop = current_stop and (val_errors[-i-1] - current_best > self.tolerance)\n",
    "            return current_stop"
   ]
  },
  {
   "cell_type": "code",
   "execution_count": 7,
   "metadata": {},
   "outputs": [],
   "source": [
    "# load the data\n",
    "# remove none value\n",
    "df = pd.read_csv(\"housing.csv\", sep = \",\")\n",
    "df = df.dropna(axis = 0)\n",
    "# remove ocean_proximity\n",
    "df = df.drop('ocean_proximity', axis = 1)\n",
    "# split data into training and test set\n",
    "\n",
    "np.random.seed(129)\n",
    "msk = np.random.rand(len(df)) < 0.8\n",
    "traindf = df[msk]\n",
    "testdf = df[~msk]\n",
    "x, y, x_test, y_test = data_generating(traindf, testdf)\n",
    "num_data, num_feature = x.shape"
   ]
  },
  {
   "cell_type": "code",
   "execution_count": 8,
   "metadata": {},
   "outputs": [],
   "source": [
    "# set training parameters\n",
    "l = 1e-4\n",
    "wr = l**2. / num_data\n",
    "dr = 2. / num_data\n",
    "learning_rate = 0.001\n",
    "batch_size = 50\n",
    "num_epoch = 1000\n",
    "tolerance=0.002\n",
    "patience = 20"
   ]
  },
  {
   "cell_type": "code",
   "execution_count": 9,
   "metadata": {},
   "outputs": [
    {
     "name": "stdout",
     "output_type": "stream",
     "text": [
      "EPOACH 1: TRAIN LOSS: 0.0314; VAL LOSS IS: 0.03127.\n",
      "EPOACH 11: TRAIN LOSS: 0.0224; VAL LOSS IS: 0.02292.\n",
      "EPOACH 21: TRAIN LOSS: 0.0190; VAL LOSS IS: 0.01985.\n",
      "EPOACH 31: TRAIN LOSS: 0.0192; VAL LOSS IS: 0.02007.\n",
      "EPOACH 41: TRAIN LOSS: 0.0198; VAL LOSS IS: 0.02062.\n",
      "EPOACH 51: TRAIN LOSS: 0.0194; VAL LOSS IS: 0.02031.\n",
      "EPOACH 61: TRAIN LOSS: 0.0192; VAL LOSS IS: 0.02001.\n",
      "EPOACH 71: TRAIN LOSS: 0.0215; VAL LOSS IS: 0.02228.\n",
      "EPOACH 81: TRAIN LOSS: 0.0196; VAL LOSS IS: 0.02053.\n",
      "EPOACH 91: TRAIN LOSS: 0.0185; VAL LOSS IS: 0.01943.\n",
      "EPOACH 101: TRAIN LOSS: 0.0202; VAL LOSS IS: 0.02114.\n",
      "EPOACH 111: TRAIN LOSS: 0.0223; VAL LOSS IS: 0.02328.\n",
      "EPOACH 121: TRAIN LOSS: 0.0208; VAL LOSS IS: 0.02177.\n",
      "EPOACH 131: TRAIN LOSS: 0.0209; VAL LOSS IS: 0.02179.\n",
      "EPOACH 141: TRAIN LOSS: 0.0194; VAL LOSS IS: 0.02028.\n",
      "EPOACH 151: TRAIN LOSS: 0.0204; VAL LOSS IS: 0.02121.\n",
      "EPOACH 161: TRAIN LOSS: 0.0206; VAL LOSS IS: 0.02141.\n",
      "EPOACH 171: TRAIN LOSS: 0.0203; VAL LOSS IS: 0.02129.\n",
      "EPOACH 181: TRAIN LOSS: 0.0192; VAL LOSS IS: 0.01995.\n",
      "EPOACH 191: TRAIN LOSS: 0.0190; VAL LOSS IS: 0.02003.\n",
      "EPOACH 201: TRAIN LOSS: 0.0276; VAL LOSS IS: 0.02834.\n",
      "EPOACH 211: TRAIN LOSS: 0.0209; VAL LOSS IS: 0.02164.\n",
      "EPOACH 221: TRAIN LOSS: 0.0269; VAL LOSS IS: 0.02762.\n",
      "EPOACH 231: TRAIN LOSS: 0.0188; VAL LOSS IS: 0.01972.\n",
      "EPOACH 241: TRAIN LOSS: 0.0193; VAL LOSS IS: 0.02024.\n",
      "EPOACH 251: TRAIN LOSS: 0.0256; VAL LOSS IS: 0.02653.\n",
      "EPOACH 261: TRAIN LOSS: 0.0224; VAL LOSS IS: 0.02326.\n",
      "EPOACH 271: TRAIN LOSS: 0.0250; VAL LOSS IS: 0.02570.\n",
      "tensor(0.0263, grad_fn=<MseLossBackward>)\n",
      "Stop after 274 epochs\n"
     ]
    }
   ],
   "source": [
    "mlp = MCDropout()\n",
    "\n",
    "# training model\n",
    "mlp.train()\n",
    "training_MC(mlp, x, y, x_test, y_test, learning_rate, batch_size, num_epoch, tolerance, patience)\n",
    "\n",
    "if skip_training:\n",
    "    mlp.load_state_dict(torch.load('MC_mlp_01.pth'))"
   ]
  },
  {
   "cell_type": "markdown",
   "metadata": {},
   "source": [
    "## MC Sample "
   ]
  },
  {
   "cell_type": "code",
   "execution_count": 10,
   "metadata": {},
   "outputs": [],
   "source": [
    "# MC sample \n",
    "K_test = 100 # sample 20 times \n",
    "mlp.train() \n",
    "MC_samples = [mlp(x_test) for _ in range(K_test)]  \n",
    "# calculate the means \n",
    "mean_samples = torch.stack([tup for tup in MC_samples]).view(K_test, x_test.shape[0]).cpu().data.numpy()   # shape K_test * val_set_size\n",
    "mean = np.mean(mean_samples, 0)\n",
    "epistemic_uncertainty = np.std(mean_samples, 0)"
   ]
  },
  {
   "cell_type": "markdown",
   "metadata": {},
   "source": [
    "## Evaluation"
   ]
  },
  {
   "cell_type": "code",
   "execution_count": 11,
   "metadata": {},
   "outputs": [],
   "source": [
    "# hit probability\n",
    "def hit_probability(y_test, mean, epistemic_uncertainty, confidence):\n",
    "    confidence_lower, confidence_higher = scipy.stats.norm.interval(confidence , mean, epistemic_uncertainty)\n",
    "    return np.sum([1 if y_test[i] <= confidence_higher[i] and y_test[i] >= confidence_lower[i] else 0 for i in range(len(y_test))]) / len(y_test)"
   ]
  },
  {
   "cell_type": "code",
   "execution_count": 12,
   "metadata": {},
   "outputs": [
    {
     "name": "stdout",
     "output_type": "stream",
     "text": [
      "the area between two lines is =  0.1465205246538741\n"
     ]
    },
    {
     "data": {
      "image/png": "[encoded data removed]",
      "text/plain": [
       "<Figure size 432x288 with 1 Axes>"
      ]
     },
     "metadata": {
      "needs_background": "light"
     },
     "output_type": "display_data"
    }
   ],
   "source": [
    "confidence = np.linspace(0, 1.0, 21, endpoint = True)\n",
    "#print(confidence)\n",
    "plt.plot(confidence, confidence, '-*')\n",
    "hit_ratio = [hit_probability(y_test, mean, epistemic_uncertainty, c) for c in confidence]\n",
    "plt.plot(confidence, hit_ratio)\n",
    "plt.xlabel(\"Confidence\")\n",
    "plt.ylabel(\"Probability\")\n",
    "plt.savefig(\"mcdropout.eps\", format=\"eps\", dpi=1000)\n",
    "area1 = trapz(confidence, dx = 0.05)\n",
    "area2 = trapz(hit_ratio, dx = 0.05)\n",
    "print(\"the area between two lines is = \", area1 - area2)"
   ]
  }
 ],
 "metadata": {
  "kernelspec": {
   "display_name": "Python 3",
   "language": "python",
   "name": "python3"
  },
  "language_info": {
   "codemirror_mode": {
    "name": "ipython",
    "version": 3
   },
   "file_extension": ".py",
   "mimetype": "text/x-python",
   "name": "python",
   "nbconvert_exporter": "python",
   "pygments_lexer": "ipython3",
   "version": "3.5.2"
  }
 },
 "nbformat": 4,
 "nbformat_minor": 2
}
